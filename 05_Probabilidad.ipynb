{
 "cells": [
  {
   "cell_type": "markdown",
   "metadata": {
    "id": "GEFRqVgwU4TH"
   },
   "source": [
    "# Probabilidad y Estadística\n",
    "\n",
    "El objetivo del siguiente notebook es afianzar algunos conceptos de Probabilidad y, de paso, empezar a ver cómo se hacen gráficos con Matplotlib, una nueva librería que veremos más en detalle en la próxima bitácora y encuentro. Por ahora, solamente tienen que instalarla y correr las celdas. ¡No te preocupes si no entiendes lo que hacen esas celdas! Lo importante es que prestes atención a sus resultados.\n",
    "\n",
    "## 1. Distribuciones de probabilidad\n",
    "\n",
    "El concepto de distribución de probabilidad es un concepto central en probabilidad y estadística y, por lo tanto, hay mucho para decir. Nos limitamos acá a los puntos más importantes.\n",
    "\n",
    "\n",
    "### 1.1 Distrubución Uniforme Discreta\n",
    "\n",
    "Comencemos por un ejemplo: un dado de seis caras. La probabilidad de que al tirar el dado *salga* una cara es $1/6$. Si graficamos la probabilidad para cada resultado posible de tirar un dado, obtendríamos un gráfico como el siguiente:"
   ]
  },
  {
   "cell_type": "code",
   "execution_count": 1,
   "metadata": {
    "id": "J-fHqWnzU4TR"
   },
   "outputs": [
    {
     "name": "stderr",
     "output_type": "stream",
     "text": [
      "Matplotlib is building the font cache; this may take a moment.\n"
     ]
    }
   ],
   "source": [
    "import numpy as np\n",
    "import matplotlib.pyplot as plt"
   ]
  },
  {
   "cell_type": "code",
   "execution_count": 2,
   "metadata": {
    "id": "VSbq4R-aU4Tt"
   },
   "outputs": [
    {
     "data": {
      "image/png": "[encoded data removed]",
      "text/plain": [
       "<Figure size 432x288 with 1 Axes>"
      ]
     },
     "metadata": {
      "needs_background": "light"
     },
     "output_type": "display_data"
    }
   ],
   "source": [
    "valores = np.arange(1,7)\n",
    "probas = np.zeros(6) + 1/6\n",
    "plt.bar(valores, probas)\n",
    "plt.title('Distribución de probabilidad uniforme: lanzamiento de un dado')\n",
    "# plt.savefig('distribucion_dado.png', dpi = 400)\n",
    "plt.show()"
   ]
  },
  {
   "cell_type": "markdown",
   "metadata": {
    "id": "Hl-vXlaCU4T_"
   },
   "source": [
    "En este caso, decimos que la distribución de probabilidad es *uniforme discreta*, ya que le asigna la misma probabilidad a los seis valores que pueden salir al tirar el dado. Si el dado estuviera cargado, ya no sería uniforme.\n",
    "\n",
    "**Algunos detalles**:\n",
    "1. El resultado de tirar un dado es un ejemplo de una *variable aleatoria*.\n",
    "2. En el caso del dado, la variable aleatoria puede tomar valores *discretos* y *acotados* (limitados): 1, 2, 3, 4, 5 y 6\n",
    "3. Existen variables aleatorias donde los posibles valores que puede tomar son continuos y no acotados. Veremos la distribución más famosa de ellas a continuación."
   ]
  },
  {
   "cell_type": "markdown",
   "metadata": {
    "id": "mIXL9A1yU4UE"
   },
   "source": [
    "### 1.2 Distribución Normal o Gaussiana\n",
    "\n",
    "La distribución normal o gaussiana debe ser la distribución más famosa dentro de las distribuciones. Es una distribución de variable continua y aparece en una infinidad de ámbitos de la ciencia. Muchas variables asociadas a fenómenos naturales siguen una distribución gaussiana; un ejemplo típico es la estatura de las personas. La forma que tiene esta distribución está dada por la siguiente fórmula:\n",
    "\n",
    "$$f(x|\\mu, \\sigma^2)=\\frac{1}{\\sqrt{2 \\pi \\sigma^2}}e^{\\frac{-(x - \\mu)^2}{2\\sigma^2}}$$\n",
    "\n",
    "¡No te asustes si no la entiendes! Durante el encuentro, veremos más en detalle algunos aspectos de esta distribución. Pero es importante resaltar que tiene sólo dos parámetros: su valor medio $\\mu$ y su desviacíon estándar $\\sigma$. Estos valores son *teóricos*, es decir, son propios de la distribución de probabilidad. \n",
    "\n",
    "Recomendamos entrar en la página de Wikipedia de la [Distribución Normal](https://es.wikipedia.org/wiki/Distribuci%C3%B3n_normal) y prestar atención al primer gráfico - dónde podrán ver la forma teórica de la distribución - y a la sección \"Propiedades\".\n",
    "\n",
    "\n",
    "**Distribución Normal en NumPy**\n",
    "\n",
    "Como mencionamos en el encuentro anterior, NumPy nos provee de herramientas para generar valores aleatorios de distribuciones. A continuación generamos, usando `np.random.normal()`, muestras de dos distribuciones normales, con el mismo valor medio pero distinta desviación estándar. **Consultar** la ayuda de la función para entender bien qué hace."
   ]
  },
  {
   "cell_type": "code",
   "execution_count": 3,
   "metadata": {
    "id": "mnQ6ZwhAU4UJ",
    "scrolled": true
   },
   "outputs": [
    {
     "name": "stdout",
     "output_type": "stream",
     "text": [
      "[  0.88926133  19.48377448   7.1839792    0.50122679   1.91455659\n",
      "   4.56536316  -5.81019644   1.35261981   1.86791653   4.35590792\n",
      "  -2.13247756   1.42769658  -6.96785994   7.96693833  11.73656361\n",
      "  -2.3010057    5.87972664   4.71755922  -3.76874263   5.8979147\n",
      "  -5.51182053   3.95757604   1.0816139    6.81601617  -0.96008202\n",
      "  -1.35676967  -2.90386103   1.61564449   2.43163322   4.56910452\n",
      "  -0.9333126    6.87411673   1.56700526   1.08394168  -2.00368645\n",
      "   8.4916103   -5.78288035  -0.36541987  11.26591596   6.06362828\n",
      "  -1.09873087   2.43240707  -4.79667583   1.58012064   4.18836453\n",
      "   4.62621179   7.37739757   7.78055014  -6.15870086  -3.33439764\n",
      "  -1.23463987   3.28100616  -1.61009301   3.50025772  -4.41002976\n",
      "   4.5474059    5.79427774   5.38990841   6.45195552   3.57546884\n",
      "   5.90041187   5.73923899   2.40241446  -0.26662057  11.2996105\n",
      "   3.74570624  -2.14807146   5.47735801   9.96845263  -5.30656612\n",
      "  -2.28491237  -8.5985009   -2.70264819  -4.29042093   5.1685659\n",
      "  -0.62306983  -4.6106411    7.40622607  -1.54380987  -4.81447163\n",
      "   3.09703328   2.52673893   6.27090421   3.16176834  -0.43099524\n",
      "   4.97914877   2.61496022   4.95658135   0.33127507  -6.22644324\n",
      " -10.96682176  -3.16229232   9.82862697   3.38330281  -0.46981202\n",
      "   0.49805964   8.08547047   4.9331371   -3.69373937   4.82257642\n",
      "  10.7849801    0.8121705   11.69422298   2.13253344   5.76826116\n",
      "   4.24413946  -1.90587628  10.65643511   1.87510989  -1.74483988\n",
      "   2.9072847    4.44862993   7.27151149   7.56313469   0.50436701\n",
      "  -1.00579731  12.59482217  12.57357538  -2.19323171   2.33775585\n",
      "   4.86993384   5.90767273   3.06481733   7.06476379  -1.56402364\n",
      "  -1.00695451   3.13230645   2.03955758   0.54165822  -8.9068617\n",
      "   6.49765198  10.12948541   4.45274998  -0.77135047  -3.12013704\n",
      "   4.63828454   6.59973719  -1.16054209  -3.94718208   4.92649066\n",
      "   0.21905795   1.41725953   6.03823943   7.44604694   5.65533442\n",
      "  -3.244983    -3.3172973    3.0703522    0.40479487  -0.13176877\n",
      "  -1.77965501   8.80439859  -5.35785758   1.64436561   1.94745294\n",
      "  -0.25101228  -5.06600753   7.14525244   1.00877602  -4.76756822\n",
      "   5.29459985  -2.83322828   5.143872     6.1882951    7.39697524\n",
      "   0.70805103  -2.20747011   1.13828773  10.13153237   7.18493201\n",
      "  -0.86865858  -5.24084372   3.89876908  -0.52853772  11.80690316\n",
      "   1.80339667   3.07497425   4.6196456    5.85173047   4.6046945\n",
      "   0.87093016   4.31732376  -4.90351492  -8.33719181  -2.97411727\n",
      "  -1.84288038   1.06785252   1.08427041   8.05255287  -5.45581019\n",
      "   6.21780926   7.13404576  -4.78165504  10.3465283   -0.6526538\n",
      "   4.12479489  -2.76744786   0.6069802    9.67133952  -2.0151125\n",
      "   9.08222214   3.32371957  -1.65250799   1.3255869    1.68572432\n",
      "   1.30289101   8.44039778  -0.27377791   6.44975661  10.2821326\n",
      "  -6.03993527   6.96065971   8.59544312   1.94533191  -8.99083501\n",
      "  11.54916407  -2.89762366  -0.08659698  -1.51933797   0.41406471\n",
      "  -1.89874457   9.09841918   1.20710847  11.70632496   1.15582349\n",
      "  -4.93967248  -5.05419589   2.29047639   3.02081808  -1.45812916\n",
      "   4.58343728   5.90638556  10.03653439   7.51842851   0.50678205\n",
      "  10.30853835   2.97074012  12.27007567  11.71409999   2.74910021\n",
      "   5.86429414   1.39119105  -6.61141246   1.81936242   0.29389893\n",
      "   3.74625359   3.05388343   3.70159968  -8.22875559   7.64127985\n",
      "   8.96048395   3.02702152  -0.45469743   6.97797321   1.0396967\n",
      "  -4.22164544  -0.78658784  11.92697236   9.62396176   2.2455349\n",
      "  11.17713761   2.49457025   3.44282339  -2.51149185   3.76077755\n",
      "   0.51046224   2.22706592   8.86132784   4.67928223   8.31090051\n",
      "   9.46593598  -3.82648546   5.45870058  -0.66086623   7.10391867\n",
      "   5.00468009   0.35787985   1.05560887  -1.33493694   3.70866179\n",
      "   4.71976837  -4.38793117   1.79535927   4.81291313  -8.88627184\n",
      "   6.97172601  10.61729497  -3.37826811   2.94138786   9.807241\n",
      "   1.76732601  -1.59344452   5.30219999 -10.74927874   4.5022965\n",
      "   1.93239877  -8.28949329   5.38878604   2.47433751   0.50815221\n",
      "  -2.90415432   5.31933961   3.91345648   6.7463103    0.94539646\n",
      "   0.12985801   4.03266156   7.90712379  -3.05774995   1.36808327\n",
      "  -0.76411837   3.15394667   3.41741214  11.61457437   2.22465607\n",
      "   8.18436051   6.84069155   9.89724118  -4.82476901  -2.68343038\n",
      "   3.11544981   6.93377709  -3.3608906    4.5271083   -2.84517381\n",
      "   5.19071636   4.45916046  -0.91953266  -4.60475537   3.11472557\n",
      "   0.19488903   6.84156629  -0.14384282   4.76569529  -0.35383647\n",
      "   1.10306229  -4.84155291  -2.54186076   1.22530939  -4.02431199\n",
      "   5.07981947   8.50101407  -0.54155156  -9.43754337  -4.02771908\n",
      "  -1.62862529  10.52216097  -2.73052804   3.7185525    1.20525106\n",
      "   5.085192     0.74297649   1.77877639   7.49391747   2.33711246\n",
      "   7.31447691   5.8253033    9.17913952   3.86777621   0.88070166\n",
      "  14.31960282   1.52809946  -1.38919515  -0.59199839   1.97046335\n",
      "   5.30113195  -0.09538474  -5.40642157   4.96525276   5.25700438\n",
      "   5.01411673   2.11667234   5.53512158   7.29624322  -3.78786973\n",
      "   5.73790794  10.973409     0.59091891   3.44994249  -5.32901778\n",
      "  -1.7272177    4.3939061    7.36972774   2.04535064   2.26969235\n",
      "  10.55164333   5.85319342  11.51899454  -0.75194893   1.47700959\n",
      "   2.95348622  -2.66809195  11.36987449  -3.19467784  -0.39174768\n",
      "  -5.24042782   5.33669006  -9.16291769   5.66104468  -3.77463515] [ 4.02175541e+00  2.59594010e+00 -2.94824274e-01  1.64999525e+00\n",
      " -1.92264652e+00  2.04847917e+00  3.39917796e+00  1.51111016e+00\n",
      "  1.47630248e+00  1.50322122e+00  1.22073879e+00  4.01387007e+00\n",
      "  4.20605998e+00  1.11464270e-01  2.84974811e+00  2.64876455e+00\n",
      "  3.48275662e+00  1.86157619e+00  2.42724516e+00  2.19560642e+00\n",
      "  4.05287080e+00 -2.10650175e-01 -5.13303985e-01 -3.68696802e+00\n",
      " -1.09891622e+00  1.29038260e+00  3.46777204e+00  2.10308965e-01\n",
      "  1.44834479e+00  5.68509669e+00  4.81468098e+00  1.70612317e+00\n",
      " -7.64914611e-01  6.03346847e+00  1.40646414e+00  8.05993477e-01\n",
      " -1.40062182e+00  2.41597400e+00 -2.41588824e+00  9.29017057e-01\n",
      "  2.37211551e+00 -2.73235707e+00  2.74911705e+00  8.41467319e-02\n",
      "  4.58064688e+00  2.15638829e+00  9.23472198e-01  2.57943952e+00\n",
      " -3.25613486e-01  2.88519670e+00  3.56514653e+00  8.35547116e-01\n",
      " -1.78806558e-01  4.77240661e-01  2.21376848e+00  3.00365470e+00\n",
      "  1.12683447e+00 -8.93871919e-01  5.85999891e-01  3.01538992e+00\n",
      "  4.96204894e+00  2.40410129e+00  2.72135715e+00  1.70539905e+00\n",
      " -1.70690711e+00  6.08017065e+00 -8.77989100e-01  1.18862913e+00\n",
      "  7.66412306e-01  2.32915100e+00  1.76383074e+00 -8.37174356e-01\n",
      "  5.67744074e+00 -2.16727312e+00  1.78751097e-02  1.46516866e+00\n",
      "  2.60528287e+00  1.32451117e+00  3.90098083e-01  1.85790901e+00\n",
      " -1.45251820e+00 -3.94358309e-01  8.54178690e-01 -2.64082549e-01\n",
      " -2.54663343e-01  3.91510585e+00  4.53921418e+00  9.90537899e-01\n",
      "  3.12260662e+00  4.41084030e+00  7.40370649e-03  3.62244408e+00\n",
      "  7.00066595e-01  5.38166191e+00  4.04126406e+00  2.99133104e+00\n",
      " -1.57904295e+00  2.85777160e-02  5.70934514e+00 -8.48288118e-01\n",
      " -4.22817235e-01  5.90008267e+00 -2.08500948e+00 -4.68601336e-01\n",
      "  1.53237841e+00 -6.32596797e-01  6.30998486e+00  2.55877797e+00\n",
      "  5.95316637e+00 -1.23159932e+00  7.56834445e-01  1.99247219e+00\n",
      "  5.47107593e+00  4.40153184e+00  2.70579599e+00  3.82741774e+00\n",
      "  1.95915773e+00  5.38824246e-01  2.45796777e+00  2.97871563e-02\n",
      "  3.23191596e+00 -1.24870080e+00  2.32884238e+00 -7.27136898e-02\n",
      "  2.72879014e+00  3.04166827e+00  4.90679765e+00  2.64373188e+00\n",
      "  2.90767424e+00  1.29521218e-02 -6.15294857e-01  2.22339747e+00\n",
      " -1.63984391e+00  9.10711030e-01  2.58218117e+00 -9.45668856e-01\n",
      "  4.16890359e+00  8.71697202e-01  2.68429968e+00  2.54124203e+00\n",
      " -1.14930932e+00  3.54103067e+00  3.73942446e-01  1.94625840e+00\n",
      "  1.00536581e+00  3.62663198e+00  2.04581373e+00  1.97575369e+00\n",
      "  1.62955010e+00  3.55547025e+00  2.52131580e+00 -1.66355446e+00\n",
      " -1.99541481e-01  3.03940485e+00  3.77182978e+00  4.10378064e+00\n",
      "  1.95067039e+00  1.38648658e+00  5.44701598e+00  2.84171671e+00\n",
      "  7.69820858e-01  6.77397752e-01  4.18616377e+00  3.54342898e-01\n",
      "  1.01826637e-01  8.28494835e-01 -6.61215714e-01  1.87062256e+00\n",
      "  4.81906304e+00  4.75465960e-01  3.95913516e+00 -3.40385149e-01\n",
      "  7.32662369e-03  4.24953543e+00  3.00160408e+00  6.27533848e-01\n",
      "  2.41292615e+00  5.21487266e+00  2.21628772e+00 -2.32057774e+00\n",
      "  2.09512137e+00  5.47199339e+00 -3.03224455e-02  4.53235235e+00\n",
      "  2.49213688e+00  5.38835039e+00  3.28530438e+00  1.91454885e+00\n",
      "  4.71800262e+00  7.45188277e-01  6.02542175e-01  1.36252262e+00\n",
      " -4.72038337e-01  3.84452481e-01  1.22179691e+00  3.88568134e+00\n",
      "  1.54073759e+00  4.98471087e+00  1.06826210e+00  3.08749885e+00\n",
      "  2.32667664e+00 -2.54909219e-01  1.74617223e+00  1.59444780e+00\n",
      "  1.41217184e-02  1.07319859e+00 -2.27800924e+00  4.41752922e+00\n",
      " -8.43899707e-01  2.92829648e+00  3.74313543e+00  1.35261682e+00\n",
      "  1.42163042e+00  3.75710822e-01 -5.00032998e+00  6.39175537e-01\n",
      "  3.76026276e-01  2.06818577e+00  1.88836224e+00  9.14883522e-01\n",
      "  4.96886764e-02 -7.52108646e-01  4.25567435e+00  2.26580850e+00\n",
      "  3.59577377e+00  3.52588676e+00  1.60077030e+00  6.43405319e+00\n",
      "  3.66194233e+00  1.63152352e+00  3.53631543e+00  4.85352029e-01\n",
      "  1.78909433e+00  2.97771231e+00  3.73410586e+00  4.29731261e+00\n",
      "  4.13541448e+00  3.45628367e+00  3.09295495e+00  3.36649812e+00\n",
      "  8.87567300e-01  4.56011373e+00  3.88870636e+00  5.20505969e+00\n",
      "  3.50999973e+00  5.35324439e+00  1.00624741e+00  2.59704124e+00\n",
      " -5.20554956e-02  4.42802130e+00  2.33916117e+00  4.18952934e-01\n",
      "  2.34321301e+00  2.42508725e+00 -2.96444076e-01  1.62459752e+00\n",
      "  1.14493060e-01  6.41125656e+00  1.75127527e+00  2.90501495e+00\n",
      "  2.33442800e+00 -1.81661361e+00  1.13231302e+00  3.77142557e+00\n",
      "  4.97734882e+00  8.75282472e-01  3.55558767e+00  7.36107286e-01\n",
      "  2.65777380e+00  5.60595628e+00  4.00897160e+00  3.37882536e-01\n",
      "  9.98727967e-01  1.76678846e+00  2.02391021e-01  4.58967451e+00\n",
      "  5.02227689e-01  1.54554556e+00  5.01758554e+00  1.79167733e+00\n",
      "  2.65972062e+00 -6.33834297e-01  1.64102400e+00  3.85657150e-01\n",
      "  2.23492388e-01  4.55212679e-01 -6.59780791e-01  2.81160618e+00\n",
      "  5.10918375e-02  1.40264702e+00  4.65297126e-01 -1.55570663e+00\n",
      " -1.03169805e-01  1.59384092e+00  2.70377165e+00 -3.28913631e-01\n",
      "  6.05794826e-03  3.27925120e+00 -1.76019234e+00  2.99032572e+00\n",
      "  3.01147379e+00  1.07590672e+00  3.33706530e+00  3.19003229e+00\n",
      "  3.41588936e+00  1.03962605e+00  7.42128717e+00  9.53381664e-01\n",
      "  4.39585285e-01  2.58937337e+00  1.53022944e+00  2.48331761e+00\n",
      "  3.59520035e+00  1.28346121e+00  1.60203497e+00  2.37349614e+00\n",
      "  2.36172695e+00 -2.26306517e-02  2.26874234e+00  5.58666486e+00\n",
      "  4.41572423e+00  4.53960402e+00  1.88093262e+00  3.35071838e+00\n",
      "  1.40329440e+00  3.18212215e+00  5.73580786e-02  2.76194057e+00\n",
      "  3.87872152e+00  4.64470249e+00  6.29324471e+00  2.78563679e+00\n",
      "  1.44065458e+00  2.36644038e+00  4.46834079e+00  1.79383540e+00\n",
      "  1.44762478e+00  1.75458463e+00  1.25413916e+00  1.21408949e+00\n",
      "  3.65799758e+00  3.82035051e+00  3.60546086e+00  3.86958037e+00\n",
      "  5.24271160e+00  6.67750623e-01  8.55576091e-02  2.75401743e+00\n",
      "  7.62437303e-01  1.70764060e+00 -1.49121463e-02  3.99047191e+00\n",
      "  1.15103321e+00  2.85928986e+00 -1.27927271e+00  7.39149096e-01\n",
      "  2.02330364e-01  2.89587121e+00  3.00863240e+00  3.83586690e+00\n",
      "  1.60170808e+00  1.61504093e+00 -1.92291126e-03  3.79864719e+00\n",
      "  6.14916349e+00  5.03345384e+00  4.72336497e+00  3.08766233e+00\n",
      "  1.64775117e+00  2.55969426e+00  5.51462851e+00  1.14237880e+00\n",
      " -1.88816583e+00  1.43070446e+00  9.64388499e-01  3.83038391e+00\n",
      "  2.06303775e+00  4.97938370e-01  2.70717331e+00  3.46438989e+00\n",
      "  4.95890594e-01 -1.52790068e+00  3.15849736e+00  2.94812183e+00\n",
      "  1.58377959e+00  5.64337367e+00 -1.42367271e+00  1.98802458e+00\n",
      "  3.78241041e+00  8.58558382e-01  2.86374978e-01 -3.27796167e-02\n",
      "  4.65911873e+00  4.55770303e+00  4.15078614e-01  8.63722099e-01\n",
      "  5.74728917e+00 -1.47839088e+00 -5.42123843e-02  5.34801321e-01]\n"
     ]
    }
   ],
   "source": [
    "mu = 2.0\n",
    "sigma_1 = 5.0\n",
    "sigma_2 = 2.0\n",
    "muestras_1 = np.random.normal(loc = mu, scale = sigma_1, size = 400)\n",
    "muestras_2 = np.random.normal(loc = mu, scale = sigma_2, size = 400)\n",
    "print(muestras_1, muestras_2)"
   ]
  },
  {
   "cell_type": "markdown",
   "metadata": {
    "id": "OHFxZhG0U4Ub"
   },
   "source": [
    "Notar que son dos \"tiras\" de números, bastante largas y que a simple vista no nos dicen mucho. Mejor, podemos graficar su histograma. Veremos bien qué es un histograma en la próxima bitácora. Por ahora, basta saber que es una forma de visualizar cómo está distribuida una tira de números. Lo que hace es tomar un número determinado de intervalos (`bins = 20`) y contar cuántas muestras caen en cada intervalo."
   ]
  },
  {
   "cell_type": "code",
   "execution_count": 4,
   "metadata": {
    "id": "4nu_9GbwU4Uf"
   },
   "outputs": [
    {
     "data": {
      "image/png": "[encoded data removed]",
      "text/plain": [
       "<Figure size 432x288 with 1 Axes>"
      ]
     },
     "metadata": {
      "needs_background": "light"
     },
     "output_type": "display_data"
    }
   ],
   "source": [
    "plt.hist(muestras_1, bins = 20, alpha = 0.5, label = 'Histrograma Muestra 1')\n",
    "plt.hist(muestras_2, bins = 20, alpha = 0.5, label = 'Histrograma Muestra 2')\n",
    "plt.legend()\n",
    "plt.grid()\n",
    "plt.show()"
   ]
  },
  {
   "cell_type": "markdown",
   "metadata": {
    "id": "_Ez12LcZU4Uu"
   },
   "source": [
    "**Ejercicio:** Volver a \"generar\" las muestas y hacer sus histogramas. ¿Cambió?¿Por qué? Googlear que es una *semilla* (`seed`) en NumPy e implementar. También, cambiar la cantidad de muestras, modificando el argumento `size`. \n",
    "\n",
    "### 1.3 Relación entre Probabilidad y Estadística\n",
    "\n",
    "**Promedio y desviación estándar en una distribución Normal**\n",
    "\n",
    "En una distribución normal, el promedio de las muestras obtenidas *tiende* al valor medio $\\mu$ de la distribución, y la desviación estándar *tiende* a la desviacíon estándar $\\sigma$ de la distribución. Notar, entonces, que existen valores calculados (promedio, desviación estándar) y valores teóricos ($\\mu$ y $\\sigma$). Confundirlos entre sí es un error común.\n",
    "\n",
    "Veamos un ejemplo. Nuevamente, obtenemos muestras de una distribución normal:"
   ]
  },
  {
   "cell_type": "code",
   "execution_count": 5,
   "metadata": {
    "id": "55UHxgsWU4Uy"
   },
   "outputs": [],
   "source": [
    "mu = 8.5\n",
    "sigma = 3.0\n",
    "muestras = np.random.normal(loc = mu, scale = sigma, size = 100)"
   ]
  },
  {
   "cell_type": "markdown",
   "metadata": {
    "id": "IrLpnkqqU4U9"
   },
   "source": [
    "Y calculamos su promedio y desviación estándar, y comparamos con $\\mu$ y $\\sigma$."
   ]
  },
  {
   "cell_type": "code",
   "execution_count": 6,
   "metadata": {
    "id": "k1JKKz5eU4VC"
   },
   "outputs": [
    {
     "name": "stdout",
     "output_type": "stream",
     "text": [
      "Valor medio teorico: 8.5 . Valor medio calculado: 8.06989091371729\n",
      "Desviacion estandar teorica: 3.0 . Desviacion estandar calculada: 2.6808625248032505\n"
     ]
    }
   ],
   "source": [
    "print('Valor medio teorico:', mu, '. Valor medio calculado:', muestras.mean())\n",
    "print('Desviacion estandar teorica:', sigma, '. Desviacion estandar calculada:', muestras.std())"
   ]
  },
  {
   "cell_type": "markdown",
   "metadata": {
    "id": "YqQs6D_YU4VQ"
   },
   "source": [
    "Comparemos el histograma de las muestras y la distribución teórica, que graficaremos haciendo uso de la librería `SciPy`:"
   ]
  },
  {
   "cell_type": "code",
   "execution_count": 7,
   "metadata": {
    "id": "bf31AbLMU4VU"
   },
   "outputs": [
    {
     "data": {
      "image/png": "[encoded data removed]",
      "text/plain": [
       "<Figure size 432x288 with 1 Axes>"
      ]
     },
     "metadata": {
      "needs_background": "light"
     },
     "output_type": "display_data"
    }
   ],
   "source": [
    "from scipy.stats import norm\n",
    "\n",
    "plt.hist(muestras, bins=20, density=True, alpha=0.6, color='g')\n",
    "\n",
    "xmin, xmax = plt.xlim()\n",
    "x = np.linspace(xmin, xmax, 100)\n",
    "p = norm.pdf(x, mu, sigma)\n",
    "plt.plot(x, p, 'k', linewidth=2, label = 'Distribución Teórica')\n",
    "\n",
    "title = \"Muestras obtenidas de una distribución normal con mu = %.2f,  sigma = %.2f\" % (mu, sigma)\n",
    "\n",
    "plt.title(title)\n",
    "plt.legend()\n",
    "plt.show()"
   ]
  },
  {
   "cell_type": "markdown",
   "metadata": {
    "id": "RTOjCCEQU4Vi"
   },
   "source": [
    "**Nota:** si estás atento/a a la escala en el eje *y*, notarás que es distinta a la escala de los histogramas anteriores. Esto se debe a que, en un histograma, además de graficar la cantidad de muestras que entran en cada intervalo, podemos también graficar la **proporción** de muestras que entran en cada intervalo.\n",
    "\n",
    "**Para pensar y probar:** \n",
    "1. ¿Por qué no coinciden $\\mu$ y $\\sigma$ con los valores calculados?¿Qué podemos hacer para que se parezcan cada vez más?¿Y qué ocurre en ese caso con el histograma y la distribución teórica?\n",
    "2. Con respecto al ejercicio que acabamos de hacer, ¿cuáles son los *parámetros* asociados al mundo de las probabilidades y cuáles son los *valores estadísticos* asociados al mundo de la estadística?\n",
    "\n",
    "\n",
    "### Ejercitación\n",
    " \n",
    "Los siguientes ejercicios pueden parecer muy difíciles, pero te aseguramos que no lo son tanto. ¡Lo importante es que los intentes!\n",
    "\n",
    "**Ejercicio 1 - Challenge:** Muchos juegos de mesa requieren tirar dados y sumar sus resultados. Por ejemplo, el [Catán](https://es.wikipedia.org/wiki/Los_Colonos_de_Cat%C3%A1n). Es evidente que, mientras en un dado la probabilidad de que salga cada cara es la misma, en esta variable aleatoria todos los resultados no son igual de probables (¿Cuáles son los posibles resultados?). Entonces, para mejorar tu estrategia en estos juegos, es útil saber cuál es la probabilidad asociada a cada resultado. Para ello, debes calcular su distribución de probabilidad. Entonces, \n",
    "\n",
    "Obtener la distribución de la variable aleatoria *suma del resultado de tirar dos dados*. Para ello puedes intentar alguna o ambas de las siguientes opciones:\n",
    "1. **Obtener la distribución teórica:** para ello, basta contar los casos *a mano* con lápiz y papel. Por ejemplo:\n",
    "    1. Uno (1) es un resultado imposible\n",
    "    2. Dos (2) solamente puede ser obtenida con ambos dados en 1, 1 + 1\n",
    "    3. Tres (3) tiene dos opciones, 2 + 1 y 1 + 2\n",
    "    4. Cuatro (4) tiene tres opciones: 3 + 1, 2 + 2, 1 + 3\n",
    "    \n",
    "    y así para el resto de los posibles resultados. Completa la lista hasta el 12 y cuenta cuántas combinaciones existen para cada resultado. ¿Cuántos combinaciones debe haber en total, teniendo en cuenta que cada dado tiene seis caras? Al final, debes llevarlos a porcentaje. Por ejemplo, si en total son 100 posibles combinaciones, y el 12 tiene 10 posibles combinaciones, su probabilidad es 10/100 = 0.1\n",
    "    \n",
    "2. **Simular y obtener una distribución aproximada:** otra opción es simular esta situación. Viste en el notebook de la bitácora anterior cómo simular un dado. Ahora simula dos dados y obtiene la suma de sus resultados.\n",
    "\n",
    "¿Te animas a comparar ambos métodos?"
   ]
  },
  {
   "cell_type": "code",
   "execution_count": null,
   "metadata": {
    "id": "327V3n7oU4Vm"
   },
   "outputs": [],
   "source": [
    "# COMPLETAR: UNA LINEA DE CODIGO \n",
    "# COMPLETAR: OTRA LINEA DE CODIGO \n",
    "\n",
    "suma = # COMPLETAR\n",
    "\n",
    "plt.hist(suma, bins = np.arange(1.5,13.5,1), density=True, rwidth = 0.8,)\n",
    "plt.show()"
   ]
  },
  {
   "cell_type": "markdown",
   "metadata": {
    "id": "EkNiPekCU4V0"
   },
   "source": [
    "**Ejercicio 2:** Obtiene, simulando, la distribución de la variable aleatoria *máximo valor obtenido al tirar dos dados.* Por ejemplo, si obtenemos 2 y 5, el resultado es 5. Nuevamente, si lo deseas, también puedes contar casos y obtener la distribución teórica."
   ]
  },
  {
   "cell_type": "code",
   "execution_count": null,
   "metadata": {
    "id": "tzyvWre3U4V4"
   },
   "outputs": [],
   "source": [
    "# COMPLETAR: UNA LINEA DE CODIGO \n",
    "# COMPLETAR: OTRA LINEA DE CODIGO \n",
    "\n",
    "'''Combinamos las muestras obtenidas en un arreglo de dos filas, donde\n",
    "cada columna corresponde a una tirada'''\n",
    "muestras = np.array([COMPLETAR,COMPLETAR])\n",
    "print(muestras.shape)\n",
    "\n",
    "\n",
    "'''Obtenemos el máximo de cada tirada. Recordar obtener el máximo\n",
    "en el eje (axis) correspondiente'''\n",
    "maximos = np.max(COMPLETAR, axis = COMPLETAR)\n",
    "\n",
    "plt.hist(COMPLETAR, bins = np.arange(0.5,7.5,1), density=True, rwidth = 0.8)\n",
    "plt.show()"
   ]
  },
  {
   "cell_type": "markdown",
   "metadata": {
    "id": "Iu_y4bliU4WK"
   },
   "source": [
    "## 2. Correlación\n",
    "\n",
    "El objetivo de esta sección es que te familiarices con los conceptos de **Covarianza** y **Correlación**. Si bien las fórmulas parecen difíciles, esperemos que veas que nada es tan grave como parece. También que prestes atención a cómo a veces es útil simular datos para aprender o acercarse a algunas técnicas.\n",
    "\n",
    "Tenemos dos variables aleatorias $X$ e $Y$, de las cuales tenemos $n$ muestras de cada una, $x_1,x_2,..., x_n$ e $y_1,y_2,..., y_n$. Sus valores medios son $\\bar{x}$ e $\\bar{y}$, respectivamente. Definimos la Covarianza como\n",
    "\n",
    "$$Cov(X,Y) = \\sum_{i=1}^{n} \\frac{(x_i - \\bar{x})(y_i - \\bar{y})}{n}$$\n",
    "\n",
    "A veces verás que, en lugar de dividir por $n$, se divide por $n - 1$ ó $n - 2$, pero eso no es importante ahora. Según Wikipedia, \"la covarianza es un valor que indica el grado de variación conjunta de dos variables aleatorias respecto a sus medias. Es el dato básico para determinar si existe una dependencia entre ambas variables y además es el dato necesario para estimar otros parámetros básicos, como el coeficiente de correlación lineal o la recta de regresión.\". \n",
    "\n",
    "Si bien la fórmula puede parecer difícil, veamos qué nos dice de nuestros datos simulando algunos casos sencillos.\n",
    "\n",
    "Empezamos generandos muestras al azar de dos variables aleatorias no relacionadas entre sí. "
   ]
  },
  {
   "cell_type": "code",
   "execution_count": 8,
   "metadata": {
    "id": "q66jDC_IU4WO"
   },
   "outputs": [],
   "source": [
    "import matplotlib.pyplot as plt\n",
    "import numpy as np"
   ]
  },
  {
   "cell_type": "code",
   "execution_count": 15,
   "metadata": {
    "id": "dWwL1LZ7U4Wa"
   },
   "outputs": [
    {
     "data": {
      "image/png": "[encoded data removed]",
      "text/plain": [
       "<Figure size 432x288 with 1 Axes>"
      ]
     },
     "metadata": {
      "needs_background": "light"
     },
     "output_type": "display_data"
    }
   ],
   "source": [
    "n = 1000\n",
    "sigma_1 = 5\n",
    "sigma_2 = 6\n",
    "x = np.random.normal(size = n, scale = sigma_1)\n",
    "y = np.random.normal(size = n, scale = sigma_2)\n",
    "\n",
    "# Graficamos\n",
    "plt.scatter(x, y)\n",
    "plt.grid()\n",
    "plt.xlim([-60,60])\n",
    "plt.ylim([-60,60])\n",
    "plt.show()"
   ]
  },
  {
   "cell_type": "markdown",
   "metadata": {
    "id": "w44BW3CCU4Wl"
   },
   "source": [
    "¿Hay alguna relación entre ellos? Por relación nos referimos a \"variación conjunta\". Y por \"variación conjunta\" podemos imaginarnos que si una de las variables aumenta, la otra también lo hace. Y si una variable disminuye su valor, la otra también lo hace. La covarianza intenta cuantificar esa relación."
   ]
  },
  {
   "cell_type": "code",
   "execution_count": 16,
   "metadata": {
    "id": "3wX-H3y-U4Wo"
   },
   "outputs": [
    {
     "name": "stdout",
     "output_type": "stream",
     "text": [
      "-0.0836216544686373\n"
     ]
    }
   ],
   "source": [
    "cov = np.sum((x - x.mean())*(y - y.mean()))/x.size\n",
    "print(cov)"
   ]
  },
  {
   "cell_type": "markdown",
   "metadata": {
    "id": "zzbRb7kmU4W0"
   },
   "source": [
    "La covarianza, sin embargo, tiene un pequeño problema: depende de la escala de nuestros datos. Entonces, para deshacernos de la escala, se puede definir la Correlación, que no es otra cosa que la covarianza dividida la desviación estándar de cada variable aletaria.\n",
    "\n",
    "$$Corr(X,Y) = \\frac{Cov(X,Y)}{\\sigma_X \\sigma_Y}$$"
   ]
  },
  {
   "cell_type": "code",
   "execution_count": 17,
   "metadata": {
    "id": "wW2-EG20U4W2"
   },
   "outputs": [
    {
     "name": "stdout",
     "output_type": "stream",
     "text": [
      "-0.002709196828881503\n"
     ]
    }
   ],
   "source": [
    "corr = cov/(x.std()*y.std())\n",
    "print(corr)"
   ]
  },
  {
   "cell_type": "markdown",
   "metadata": {
    "id": "UHClidVeU4XC"
   },
   "source": [
    "Y con eso nos deshacemos de la escala. Un valor cercano a cero nos indica que no existe una relación (¿lineal?) entre las variables.\n",
    "\n",
    "**Probar** con distintas escalas (modificando `sigma_1` y `sigma_2`) y verán que `cov` tomará valores en un rango muy amplio, mientras que `corr` se mantendrá cercana a cero.\n",
    "\n",
    "### 2.1 Relación lineal\n",
    "\n",
    "Veamos otro ejemplo: sabemos que existe una relación lineal entre $X$ e $Y$, es decir, podemos aproximar $Y =aX+b$, donde $a$ y $b$ son la pendiente y la ordenada al origen."
   ]
  },
  {
   "cell_type": "code",
   "execution_count": 27,
   "metadata": {
    "id": "JV0TUTcCU4XE"
   },
   "outputs": [
    {
     "data": {
      "image/png": "[encoded data removed]",
      "text/plain": [
       "<Figure size 432x288 with 1 Axes>"
      ]
     },
     "metadata": {
      "needs_background": "light"
     },
     "output_type": "display_data"
    }
   ],
   "source": [
    "n = 100\n",
    "x = np.linspace(-1,1,n) + 0.25*np.random.normal(size = n)\n",
    "y = 5*x + 0.25*np.random.normal(size = n)\n",
    "\n",
    "# Graficamos\n",
    "plt.scatter(x, y)\n",
    "plt.grid()\n",
    "plt.show()"
   ]
  },
  {
   "cell_type": "markdown",
   "metadata": {
    "id": "SpN-9JFmU4XM"
   },
   "source": [
    "La covarianza nos da"
   ]
  },
  {
   "cell_type": "code",
   "execution_count": 28,
   "metadata": {
    "id": "LEzzOeFtU4XR"
   },
   "outputs": [
    {
     "name": "stdout",
     "output_type": "stream",
     "text": [
      "1.7708280343739102\n"
     ]
    }
   ],
   "source": [
    "cov = np.sum((x - x.mean())*(y - y.mean()))/x.size\n",
    "print(cov)"
   ]
  },
  {
   "cell_type": "code",
   "execution_count": 29,
   "metadata": {
    "id": "ofbVUp7xU4Xa"
   },
   "outputs": [
    {
     "data": {
      "text/plain": [
       "0.9972774432417917"
      ]
     },
     "execution_count": 29,
     "metadata": {},
     "output_type": "execute_result"
    }
   ],
   "source": [
    "corr = cov/(x.std()*y.std())\n",
    "corr"
   ]
  },
  {
   "cell_type": "markdown",
   "metadata": {
    "id": "3O19qjolU4Xi"
   },
   "source": [
    "Ahora, en cambio, el valor es cercano a uno, indicando una relación lineal creciente entre ambas variables.\n",
    "\n",
    "**Probar** cambiando la pendiente de la función lineal (el número que multiplica a `x` en `y = ...`) y mirar qué pasa. ¿Qué pasa si la pendiente es negativa?"
   ]
  },
  {
   "cell_type": "markdown",
   "metadata": {
    "id": "vjgjstKaU4Xm"
   },
   "source": [
    "#### Conclusiones\n",
    "\n",
    "1. La covarianza es una medida de la variación conjunta de dos variables. Pero tiene un problema: depende de la escala.\n",
    "2. Para \"deshacernos\" de la escala, definimos la correlación, que es simplemente la covarianza dividida por el producto de la desviación estándar de cada variable. **Para pensar:** ¿por qué la desviación estándar está asociada a la escala de una variable?\n",
    "3. La correlación es un valor entre -1 y 1. La correlación toma un valor cercano a uno cuando hay una relación lineal creciente entre las variables, cero cuando no hay relación y -1 cuando hay una relación lineal decreciente.\n",
    "4. Esta correlación tiene un nombre particular: **Correlación de Pearson**."
   ]
  },
  {
   "cell_type": "markdown",
   "metadata": {
    "id": "piVs0Av1U4Xp"
   },
   "source": [
    "### 2.2 Covarianza y Correlación con NumPy\n",
    "\n",
    "**Esta sección es opcional**\n",
    "\n",
    "NumPy ya tiene incorporadas funciones que calculan la covarianza y la correlación entre dos variables. La única diferencia es que, en lugar de devolver un único valor, devuelve cuatro valores, que corresponden a la covarianza/correlación entre $X$ con $X$, $X$ con $Y$, $Y$ con $X$, e $Y$ con $Y$. ¿Por qué, en la correlación, algunos valores son exactamente uno (1.)?"
   ]
  },
  {
   "cell_type": "code",
   "execution_count": null,
   "metadata": {
    "id": "frlmIIkKU4Xr"
   },
   "outputs": [],
   "source": [
    "np.cov([x,y])"
   ]
  },
  {
   "cell_type": "code",
   "execution_count": null,
   "metadata": {
    "id": "AWJOKo6sU4Xz"
   },
   "outputs": [],
   "source": [
    "np.corrcoef([x,y])"
   ]
  },
  {
   "cell_type": "markdown",
   "metadata": {
    "id": "MyrooOHbU4X8"
   },
   "source": [
    "### 2.3 Relación No-Lineal entre variables\n",
    "\n",
    "**Esta sección es opcional, pero recomendamos leerla**\n",
    "\n",
    "¿Qué ocurre cuando la relación no es lineal entre las variables? Veámoslo con un ejemplo.\n"
   ]
  },
  {
   "cell_type": "code",
   "execution_count": null,
   "metadata": {
    "id": "iW2lL_d8U4X-"
   },
   "outputs": [],
   "source": [
    "n = 1000\n",
    "x = np.linspace(-5,5,n) + 0.25*np.random.normal(size = n)\n",
    "y = x**2 + 0.25*np.random.normal(size = n)\n",
    "\n",
    "# Graficamos\n",
    "plt.scatter(x, y)\n",
    "plt.grid()\n",
    "plt.show()"
   ]
  },
  {
   "cell_type": "markdown",
   "metadata": {
    "id": "x0f8gozSU4YF"
   },
   "source": [
    "La covarianza nos da"
   ]
  },
  {
   "cell_type": "code",
   "execution_count": null,
   "metadata": {
    "id": "qyOWwrbQU4YH"
   },
   "outputs": [],
   "source": [
    "cov = np.sum((x - x.mean())*(y - y.mean()))/x.size\n",
    "print(cov)"
   ]
  },
  {
   "cell_type": "code",
   "execution_count": null,
   "metadata": {
    "id": "_90NldnwU4YP"
   },
   "outputs": [],
   "source": [
    "corr = cov/(x.std()*y.std())\n",
    "corr"
   ]
  },
  {
   "cell_type": "markdown",
   "metadata": {
    "id": "9XiFp1CZU4YX"
   },
   "source": [
    "Notar que la correlación de un valor alrededor de cero, indicando que no hay una correlación entre ambas variables. Pero esto NO indica que no hay una *relación* entre esas variables, solamente nos dice que no es lineal. Por eso es muy importante graficar.\n",
    "\n",
    "**Probar** cambiando la relación matemática entre `x` e `y` y mirar qué pasa.\n",
    "\n",
    "Para tratar con relaciones no lineal entre variables, existen otros tipos de correlaciones. La que vimos se llama **Correlación de Pearson**, que es la más famosa. Pero también existen otras, Spearman y Kendall, que son muy útiles cuando existe una relación no lineal entre variables.\n",
    "\n",
    "### 3. Correlación en Pandas\n",
    "\n",
    "Probablemente ya estés un poco mareado/a con tantos términos, conceptos y líneas de código. Si no entendiste del todo lo anterior, no te preocupes. Vamos a ver cómo lo aplicamos en un conjunto de datos. ¡Verás que es muy sencillo!\n",
    "\n",
    "Para eso, volvemos a usar el Iris Dataset del encuentro anterior."
   ]
  },
  {
   "cell_type": "code",
   "execution_count": 31,
   "metadata": {
    "id": "jwu9X-67U4Ya"
   },
   "outputs": [],
   "source": [
    "import pandas as pd"
   ]
  },
  {
   "cell_type": "code",
   "execution_count": 33,
   "metadata": {
    "id": "QSWYv0_WU4Yk"
   },
   "outputs": [
    {
     "data": {
      "text/html": [
       "<div>\n",
       "<style scoped>\n",
       "    .dataframe tbody tr th:only-of-type {\n",
       "        vertical-align: middle;\n",
       "    }\n",
       "\n",
       "    .dataframe tbody tr th {\n",
       "        vertical-align: top;\n",
       "    }\n",
       "\n",
       "    .dataframe thead th {\n",
       "        text-align: right;\n",
       "    }\n",
       "</style>\n",
       "<table border=\"1\" class=\"dataframe\">\n",
       "  <thead>\n",
       "    <tr style=\"text-align: right;\">\n",
       "      <th></th>\n",
       "      <th>SepalLengthCm</th>\n",
       "      <th>SepalWidthCm</th>\n",
       "      <th>PetalLengthCm</th>\n",
       "      <th>PetalWidthCm</th>\n",
       "      <th>Species</th>\n",
       "    </tr>\n",
       "  </thead>\n",
       "  <tbody>\n",
       "    <tr>\n",
       "      <th>0</th>\n",
       "      <td>5.1</td>\n",
       "      <td>3.5</td>\n",
       "      <td>1.4</td>\n",
       "      <td>0.2</td>\n",
       "      <td>Iris-setosa</td>\n",
       "    </tr>\n",
       "    <tr>\n",
       "      <th>1</th>\n",
       "      <td>4.9</td>\n",
       "      <td>3.0</td>\n",
       "      <td>1.4</td>\n",
       "      <td>0.2</td>\n",
       "      <td>Iris-setosa</td>\n",
       "    </tr>\n",
       "    <tr>\n",
       "      <th>2</th>\n",
       "      <td>4.7</td>\n",
       "      <td>3.2</td>\n",
       "      <td>1.3</td>\n",
       "      <td>0.2</td>\n",
       "      <td>Iris-setosa</td>\n",
       "    </tr>\n",
       "    <tr>\n",
       "      <th>3</th>\n",
       "      <td>4.6</td>\n",
       "      <td>3.1</td>\n",
       "      <td>1.5</td>\n",
       "      <td>0.2</td>\n",
       "      <td>Iris-setosa</td>\n",
       "    </tr>\n",
       "    <tr>\n",
       "      <th>4</th>\n",
       "      <td>5.0</td>\n",
       "      <td>3.6</td>\n",
       "      <td>1.4</td>\n",
       "      <td>0.2</td>\n",
       "      <td>Iris-setosa</td>\n",
       "    </tr>\n",
       "  </tbody>\n",
       "</table>\n",
       "</div>"
      ],
      "text/plain": [
       "   SepalLengthCm  SepalWidthCm  PetalLengthCm  PetalWidthCm      Species\n",
       "0            5.1           3.5            1.4           0.2  Iris-setosa\n",
       "1            4.9           3.0            1.4           0.2  Iris-setosa\n",
       "2            4.7           3.2            1.3           0.2  Iris-setosa\n",
       "3            4.6           3.1            1.5           0.2  Iris-setosa\n",
       "4            5.0           3.6            1.4           0.2  Iris-setosa"
      ]
     },
     "execution_count": 33,
     "metadata": {},
     "output_type": "execute_result"
    }
   ],
   "source": [
    "data = pd.read_csv('ds_04_Iris.csv')\n",
    "data.drop(columns = 'Id', inplace = True)\n",
    "data.head()"
   ]
  },
  {
   "cell_type": "markdown",
   "metadata": {
    "id": "_hpR90jUU4Yr"
   },
   "source": [
    "Para obtener las correlaciones entre las distintas variables, simplemente tenemos que hacer:"
   ]
  },
  {
   "cell_type": "code",
   "execution_count": 34,
   "metadata": {
    "id": "j24K4utyU4Yw"
   },
   "outputs": [
    {
     "data": {
      "text/html": [
       "<div>\n",
       "<style scoped>\n",
       "    .dataframe tbody tr th:only-of-type {\n",
       "        vertical-align: middle;\n",
       "    }\n",
       "\n",
       "    .dataframe tbody tr th {\n",
       "        vertical-align: top;\n",
       "    }\n",
       "\n",
       "    .dataframe thead th {\n",
       "        text-align: right;\n",
       "    }\n",
       "</style>\n",
       "<table border=\"1\" class=\"dataframe\">\n",
       "  <thead>\n",
       "    <tr style=\"text-align: right;\">\n",
       "      <th></th>\n",
       "      <th>SepalLengthCm</th>\n",
       "      <th>SepalWidthCm</th>\n",
       "      <th>PetalLengthCm</th>\n",
       "      <th>PetalWidthCm</th>\n",
       "    </tr>\n",
       "  </thead>\n",
       "  <tbody>\n",
       "    <tr>\n",
       "      <th>SepalLengthCm</th>\n",
       "      <td>1.000000</td>\n",
       "      <td>-0.109369</td>\n",
       "      <td>0.871754</td>\n",
       "      <td>0.817954</td>\n",
       "    </tr>\n",
       "    <tr>\n",
       "      <th>SepalWidthCm</th>\n",
       "      <td>-0.109369</td>\n",
       "      <td>1.000000</td>\n",
       "      <td>-0.420516</td>\n",
       "      <td>-0.356544</td>\n",
       "    </tr>\n",
       "    <tr>\n",
       "      <th>PetalLengthCm</th>\n",
       "      <td>0.871754</td>\n",
       "      <td>-0.420516</td>\n",
       "      <td>1.000000</td>\n",
       "      <td>0.962757</td>\n",
       "    </tr>\n",
       "    <tr>\n",
       "      <th>PetalWidthCm</th>\n",
       "      <td>0.817954</td>\n",
       "      <td>-0.356544</td>\n",
       "      <td>0.962757</td>\n",
       "      <td>1.000000</td>\n",
       "    </tr>\n",
       "  </tbody>\n",
       "</table>\n",
       "</div>"
      ],
      "text/plain": [
       "               SepalLengthCm  SepalWidthCm  PetalLengthCm  PetalWidthCm\n",
       "SepalLengthCm       1.000000     -0.109369       0.871754      0.817954\n",
       "SepalWidthCm       -0.109369      1.000000      -0.420516     -0.356544\n",
       "PetalLengthCm       0.871754     -0.420516       1.000000      0.962757\n",
       "PetalWidthCm        0.817954     -0.356544       0.962757      1.000000"
      ]
     },
     "execution_count": 34,
     "metadata": {},
     "output_type": "execute_result"
    }
   ],
   "source": [
    "data.corr()"
   ]
  },
  {
   "cell_type": "markdown",
   "metadata": {
    "id": "1ePNNkIzU4Y3"
   },
   "source": [
    "**Para responder**: ¿Cuáles variables están correlacionadas entre sí?¿Por qué los elementos de la diagonal son exactamente uno (1.0)?\n",
    "\n",
    "Dentro de dos encuentros veremos una forma más eficiente de visualizar esta información, ¡pero ya puedes aplicarla!"
   ]
  }
 ],
 "metadata": {
  "colab": {
   "collapsed_sections": [],
   "name": "DS_Bitácora_05_Probabilidad.ipynb",
   "provenance": []
  },
  "kernelspec": {
   "display_name": "Python 3",
   "language": "python",
   "name": "python3"
  },
  "language_info": {
   "codemirror_mode": {
    "name": "ipython",
    "version": 3
   },
   "file_extension": ".py",
   "mimetype": "text/x-python",
   "name": "python",
   "nbconvert_exporter": "python",
   "pygments_lexer": "ipython3",
   "version": "3.9.1"
  }
 },
 "nbformat": 4,
 "nbformat_minor": 4
}
